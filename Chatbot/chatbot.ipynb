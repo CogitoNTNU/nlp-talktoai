{
 "metadata": {
  "language_info": {
   "codemirror_mode": {
    "name": "ipython",
    "version": 3
   },
   "file_extension": ".py",
   "mimetype": "text/x-python",
   "name": "python",
   "nbconvert_exporter": "python",
   "pygments_lexer": "ipython3",
   "version": 3
  },
  "orig_nbformat": 2
 },
 "nbformat": 4,
 "nbformat_minor": 2,
 "cells": [
  {
   "cell_type": "code",
   "execution_count": null,
   "metadata": {},
   "outputs": [],
   "source": [
    "from transformers import pipeline, Conversation"
   ]
  },
  {
   "cell_type": "code",
   "execution_count": null,
   "metadata": {},
   "outputs": [],
   "source": [
    "conversational_pipeline = pipeline(\"conversational\")"
   ]
  },
  {
   "cell_type": "code",
   "execution_count": null,
   "metadata": {},
   "outputs": [],
   "source": [
    "conv1_start = \"Let's watch a movie tonight - any recommendations?\"\n",
    "conv2_start = \"What's your favorite book?\"\n",
    "\n",
    "conv1 = Conversation(conv1_start)\n",
    "conv2 = Conversation(conv2_start)\n",
    "\n",
    "conversational_pipeline([conv1, conv2])\n",
    "print(conv1)\n",
    "print(conv2)"
   ]
  },
  {
   "cell_type": "code",
   "execution_count": null,
   "metadata": {},
   "outputs": [],
   "source": [
    "conv1_next = \"What is it about?\"\n",
    "conv2_next = \"Cool, what is the genre of the book?\"\n",
    "\n",
    "conv1.add_user_input(conv1_next)\n",
    "conv2.add_user_input(conv2_next)\n",
    "\n",
    "conversational_pipeline([conv1])"
   ]
  },
  {
   "cell_type": "code",
   "execution_count": null,
   "metadata": {},
   "outputs": [],
   "source": [
    "customConv_input = input()\n",
    "customConv = Conversation(customConv_input)\n",
    "\n",
    "conversational_pipeline([customConv])\n",
    "\n",
    "while customConv_input != \"bye\":\n",
    "    print(customConv)\n",
    "    customConv_input = input()\n",
    "    customConv.add_user_input(customConv_input)\n",
    "    conversational_pipeline([customConv])"
   ]
  }
 ]
}