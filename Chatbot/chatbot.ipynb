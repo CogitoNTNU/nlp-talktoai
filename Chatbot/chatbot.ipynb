{
 "metadata": {
  "language_info": {
   "codemirror_mode": {
    "name": "ipython",
    "version": 3
   },
   "file_extension": ".py",
   "mimetype": "text/x-python",
   "name": "python",
   "nbconvert_exporter": "python",
   "pygments_lexer": "ipython3",
   "version": "3.7.9-final"
  },
  "orig_nbformat": 2,
  "kernelspec": {
   "name": "python3",
   "display_name": "Python 3.7.9 64-bit",
   "metadata": {
    "interpreter": {
     "hash": "e534e48711db4d1e1c48977d0d14ff85b1f16d41bcc4fdfd88268a329b3c9d66"
    }
   }
  }
 },
 "nbformat": 4,
 "nbformat_minor": 2,
 "cells": [
  {
   "cell_type": "code",
   "execution_count": 1,
   "metadata": {},
   "outputs": [],
   "source": [
    "from transformers import pipeline, Conversation"
   ]
  },
  {
   "cell_type": "code",
   "execution_count": 2,
   "metadata": {},
   "outputs": [
    {
     "output_type": "stream",
     "name": "stderr",
     "text": [
      "Some weights of GPT2Model were not initialized from the model checkpoint at microsoft/DialoGPT-medium and are newly initialized: ['transformer.h.0.attn.masked_bias', 'transformer.h.1.attn.masked_bias', 'transformer.h.2.attn.masked_bias', 'transformer.h.3.attn.masked_bias', 'transformer.h.4.attn.masked_bias', 'transformer.h.5.attn.masked_bias', 'transformer.h.6.attn.masked_bias', 'transformer.h.7.attn.masked_bias', 'transformer.h.8.attn.masked_bias', 'transformer.h.9.attn.masked_bias', 'transformer.h.10.attn.masked_bias', 'transformer.h.11.attn.masked_bias', 'transformer.h.12.attn.masked_bias', 'transformer.h.13.attn.masked_bias', 'transformer.h.14.attn.masked_bias', 'transformer.h.15.attn.masked_bias', 'transformer.h.16.attn.masked_bias', 'transformer.h.17.attn.masked_bias', 'transformer.h.18.attn.masked_bias', 'transformer.h.19.attn.masked_bias', 'transformer.h.20.attn.masked_bias', 'transformer.h.21.attn.masked_bias', 'transformer.h.22.attn.masked_bias', 'transformer.h.23.attn.masked_bias']\nYou should probably TRAIN this model on a down-stream task to be able to use it for predictions and inference.\n"
     ]
    }
   ],
   "source": [
    "conversational_pipeline = pipeline(\"conversational\")"
   ]
  },
  {
   "cell_type": "code",
   "execution_count": null,
   "metadata": {},
   "outputs": [],
   "source": [
    "conv1_start = \"Let's watch a movie tonight - any recommendations?\"\n",
    "conv2_start = \"What's your favorite book?\"\n",
    "\n",
    "conv1 = Conversation(conv1_start)\n",
    "conv2 = Conversation(conv2_start)\n",
    "\n",
    "conversational_pipeline([conv1, conv2])\n",
    "print(conv1)\n",
    "print(conv2)"
   ]
  },
  {
   "cell_type": "code",
   "execution_count": null,
   "metadata": {},
   "outputs": [],
   "source": [
    "conv1_next = \"What is it about?\"\n",
    "conv2_next = \"Cool, what is the genre of the book?\"\n",
    "\n",
    "conv1.add_user_input(conv1_next)\n",
    "conv2.add_user_input(conv2_next)\n",
    "\n",
    "conversational_pipeline([conv1])"
   ]
  },
  {
   "cell_type": "code",
   "execution_count": 3,
   "metadata": {},
   "outputs": [
    {
     "output_type": "stream",
     "name": "stderr",
     "text": [
      "Setting `pad_token_id` to `eos_token_id`:50256 for open-end generation.\n",
      "Conversation id: c405a3c5-ad7f-45cd-a578-8b9240dbfe96 \n",
      "user >> What are you doing tonight \n",
      "bot >> I'm going to the game. \n",
      "\n",
      "Setting `pad_token_id` to `eos_token_id`:50256 for open-end generation.\n",
      "Conversation id: c405a3c5-ad7f-45cd-a578-8b9240dbfe96 \n",
      "user >> What are you doing tonight \n",
      "bot >> I'm going to the game. \n",
      "user >> who is playing? \n",
      "bot >> The Giants. \n",
      "\n",
      "Setting `pad_token_id` to `eos_token_id`:50256 for open-end generation.\n",
      "Conversation id: c405a3c5-ad7f-45cd-a578-8b9240dbfe96 \n",
      "user >> What are you doing tonight \n",
      "bot >> I'm going to the game. \n",
      "user >> who is playing? \n",
      "bot >> The Giants. \n",
      "user >> Is that baseball? \n",
      "bot >> It's a sport. \n",
      "\n",
      "Setting `pad_token_id` to `eos_token_id`:50256 for open-end generation.\n",
      "Conversation id: c405a3c5-ad7f-45cd-a578-8b9240dbfe96 \n",
      "user >> What are you doing tonight \n",
      "bot >> I'm going to the game. \n",
      "user >> who is playing? \n",
      "bot >> The Giants. \n",
      "user >> Is that baseball? \n",
      "bot >> It's a sport. \n",
      "\n",
      "Setting `pad_token_id` to `eos_token_id`:50256 for open-end generation.\n"
     ]
    }
   ],
   "source": [
    "customConv_input = input()\n",
    "customConv = Conversation(customConv_input)\n",
    "\n",
    "conversational_pipeline([customConv])\n",
    "\n",
    "while customConv_input != \"bye\":\n",
    "    print(customConv)\n",
    "    customConv_input = input()\n",
    "    customConv.add_user_input(customConv_input)\n",
    "    conversational_pipeline([customConv])"
   ]
  },
  {
   "cell_type": "code",
   "execution_count": null,
   "metadata": {},
   "outputs": [],
   "source": []
  }
 ]
}