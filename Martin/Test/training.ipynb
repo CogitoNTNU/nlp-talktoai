{
 "metadata": {
  "language_info": {
   "codemirror_mode": {
    "name": "ipython",
    "version": 3
   },
   "file_extension": ".py",
   "mimetype": "text/x-python",
   "name": "python",
   "nbconvert_exporter": "python",
   "pygments_lexer": "ipython3",
   "version": "3.8.6-candidate"
  },
  "orig_nbformat": 2,
  "kernelspec": {
   "name": "python386jvsc74a57bd0f3b6685f8229bfdb05f68a645283f38a241332dcd8b5fbfb6b6333365134a06a",
   "display_name": "Python 3.8.6 64-bit"
  },
  "metadata": {
   "interpreter": {
    "hash": "f3b6685f8229bfdb05f68a645283f38a241332dcd8b5fbfb6b6333365134a06a"
   }
  }
 },
 "nbformat": 4,
 "nbformat_minor": 2,
 "cells": [
  {
   "cell_type": "code",
   "execution_count": 2,
   "metadata": {},
   "outputs": [],
   "source": [
    "import datasets as ds\n",
    "import torch as t\n",
    "import transformers as tfs\n",
    "import re\n",
    "from sklearn.model_selection import train_test_split"
   ]
  },
  {
   "source": [
    "# Preprocessing"
   ],
   "cell_type": "markdown",
   "metadata": {}
  },
  {
   "cell_type": "code",
   "execution_count": 3,
   "metadata": {},
   "outputs": [
    {
     "output_type": "stream",
     "name": "stderr",
     "text": [
      "Reusing dataset conv_ai (C:\\Users\\Martin\\.cache\\huggingface\\datasets\\conv_ai\\conv_ai\\1.0.0\\ef0f1d9a027f9f8494c5fccc54e32331f4ab4db4a1aa24be00943ce77f49a905)\n"
     ]
    }
   ],
   "source": [
    "conv_ai_dataset = ds.load_dataset('conv_ai')\n",
    "train_dataset = conv_ai_dataset['train']"
   ]
  },
  {
   "cell_type": "code",
   "execution_count": 4,
   "metadata": {
    "tags": []
   },
   "outputs": [],
   "source": [
    "train_test_ratio = 0.9\n",
    "train_eval_ratio = 0.8\n",
    "train_data, test_data = train_test_split(train_dataset, train_size=train_test_ratio, random_state=1)\n",
    "\n",
    "def build_dataset(df, dest_path):\n",
    "    f = open(dest_path, 'w',encoding='utf-8' )\n",
    "    data = ''\n",
    "    texts = df['context']\n",
    "    for text in texts:\n",
    "\n",
    "        text = str(text).strip()\n",
    "        text = re.sub(r\"\\s\", \" \", text)\n",
    "        bos_token = '<BOS>'\n",
    "        eos_token = '<EOS>'\n",
    "        data += bos_token + ' ' + text + ' ' + eos_token + '\\n'\n",
    "        \n",
    "    f.write(data)\n",
    "    f.close\n",
    "build_dataset(train_data, \"train.txt\")\n",
    "build_dataset(test_data, \"test.txt\")\n",
    "\n"
   ]
  },
  {
   "cell_type": "code",
   "execution_count": 5,
   "metadata": {
    "tags": []
   },
   "outputs": [
    {
     "output_type": "stream",
     "name": "stdout",
     "text": [
      "3398\n"
     ]
    }
   ],
   "source": [
    "def read_text(filepath):\n",
    "    with open(filepath, 'r', encoding='utf-8') as f:\n",
    "        texts = f.readlines()\n",
    "    return texts\n",
    "\n",
    "train_data = read_text(\"train.txt\")\n",
    "test_data = read_text(\"test.txt\")\n",
    "train_data, eval_data = train_test_split(train_data, train_size=train_eval_ratio, random_state=1)\n",
    "\n",
    "print(max([len(data) for data in train_data]))"
   ]
  },
  {
   "cell_type": "code",
   "execution_count": 6,
   "metadata": {},
   "outputs": [],
   "source": [
    "tokenizer = tfs.GPT2TokenizerFast.from_pretrained(\"gpt2\")\n",
    "special_tokens_dict = {'bos_token': '<BOS>', 'eos_token': '<EOS>', 'pad_token': '<PAD>'}\n",
    "num_added_toks = tokenizer.add_special_tokens(special_tokens_dict)"
   ]
  },
  {
   "cell_type": "code",
   "execution_count": 7,
   "metadata": {
    "tags": []
   },
   "outputs": [],
   "source": [
    "train_encodings = tokenizer(train_data, truncation=True, padding=True)\n",
    "test_encodigns = tokenizer(test_data, truncation=True, padding=True)\n",
    "eval_encodings = tokenizer(eval_data, truncation=True, padding=True)"
   ]
  },
  {
   "cell_type": "code",
   "execution_count": 10,
   "metadata": {},
   "outputs": [
    {
     "output_type": "stream",
     "name": "stderr",
     "text": [
      "C:\\Users\\Martin\\AppData\\Local\\Programs\\Python\\Python38\\lib\\site-packages\\transformers\\data\\datasets\\language_modeling.py:124: FutureWarning: This dataset will be removed from the library soon, preprocessing should be handled with the 🤗 Datasets library. You can have a look at this example script for pointers: https://github.com/huggingface/transformers/blob/master/examples/language-modeling/run_mlm.py\n",
      "  warnings.warn(\n",
      "<transformers.data.datasets.language_modeling.LineByLineTextDataset object at 0x000002AB4BE776D0>\n"
     ]
    }
   ],
   "source": [
    "'''\n",
    "class textDataset(t.utils.data.Dataset):\n",
    "    def __init__(self, text, tokenizer):\n",
    "        self.tokenizer = tokenizer\n",
    "        self.input_ids = []\n",
    "        self.attention_masks = []\n",
    "        encodings = self.tokenizer(text, truncation=True, padding=True)\n",
    "        self.input_ids.append(t.tensor(encodings['input_ids']))\n",
    "        self.attention_masks.append(t.tensor(encodings['attention_mask']))\n",
    "    def __getitem__(self, idx):\n",
    "        return self.input_ids[idx], self.attention_masks[idx]\n",
    "    def __len__(self):\n",
    "        return len(self.input_ids)\n",
    "\n",
    "train_dataset = textDataset(train_data, tokenizer)\n",
    "test_dataset = textDataset(test_data, tokenizer)\n",
    "print(train_dataset)\n",
    "'''\n",
    "def load_text_dataset(train_path, test_path, tokenizer):\n",
    "    train_dataset = tfs.LineByLineTextDataset(\n",
    "        tokenizer=tokenizer,\n",
    "        file_path=train_path,\n",
    "        block_size=512\n",
    "    )\n",
    "\n",
    "    test_dataset  = tfs.LineByLineTextDataset(\n",
    "        tokenizer=tokenizer,\n",
    "        file_path=test_path,\n",
    "        block_size=512\n",
    "    )\n",
    "    data_collator = tfs.DataCollatorForLanguageModeling(\n",
    "        tokenizer=tokenizer,\n",
    "        mlm = False\n",
    "    )\n",
    "    return train_dataset, test_dataset, data_collator\n",
    "train_dataset, test_dataset, data_collator = load_text_dataset(\"train.txt\", \"test.txt\", tokenizer)\n",
    "print(train_dataset)"
   ]
  },
  {
   "source": [
    "# Training/Fine tuning"
   ],
   "cell_type": "markdown",
   "metadata": {}
  },
  {
   "cell_type": "code",
   "execution_count": 9,
   "metadata": {},
   "outputs": [
    {
     "output_type": "execute_result",
     "data": {
      "text/plain": [
       "Embedding(50260, 768)"
      ]
     },
     "metadata": {},
     "execution_count": 9
    }
   ],
   "source": [
    "model = tfs.GPT2LMHeadModel.from_pretrained(\"gpt2\")\n",
    "model.resize_token_embeddings(len(tokenizer))"
   ]
  },
  {
   "cell_type": "code",
   "execution_count": 11,
   "metadata": {},
   "outputs": [
    {
     "output_type": "stream",
     "name": "stderr",
     "text": [
      "  1%|          | 2/313 [05:43<14:54:30, 172.57s/it]"
     ]
    }
   ],
   "source": [
    "training_args = tfs.TrainingArguments(\n",
    "    output_dir='./results',\n",
    "    num_train_epochs=1,\n",
    "    warmup_steps=10,\n",
    "    weight_decay=0.01,\n",
    "    logging_dir='./logs',\n",
    "    logging_steps=100,\n",
    "    save_steps=100, \n",
    ")\n",
    "trainer = tfs.Trainer(\n",
    "    model = model,\n",
    "    args = training_args,\n",
    "    data_collator=data_collator,\n",
    "    train_dataset=train_dataset,\n",
    "    eval_dataset=test_dataset,\n",
    ")\n",
    "trainer.train()\n"
   ]
  },
  {
   "source": [
    "# Text generation"
   ],
   "cell_type": "markdown",
   "metadata": {}
  },
  {
   "cell_type": "code",
   "execution_count": 97,
   "metadata": {},
   "outputs": [],
   "source": [
    "text_generator = tfs.pipeline(\"text-generation\", tokenizer = tokenizer, model=model)"
   ]
  },
  {
   "cell_type": "code",
   "execution_count": 101,
   "metadata": {},
   "outputs": [],
   "source": [
    "def generate_text(prefix, tokens_pr_gen=20, generator=text_generator):\n",
    "    encoded_input = tokenizer(prefix, add_special_tokens=True, return_tensors=\"pt\")\n",
    "    length = len(encoded_input[\"input_ids\"][0])\n",
    "    return generator(prefix, max_length = length+tokens_pr_gen, num_return_sequences=1, repetition_penalty=1.2)[0][\"generated_text\"]"
   ]
  },
  {
   "cell_type": "code",
   "execution_count": null,
   "metadata": {},
   "outputs": [],
   "source": [
    "base_generator = tfs.pipeline(\"text-generation\", tokenizer = tokenizer, model='gpt2')"
   ]
  },
  {
   "cell_type": "code",
   "execution_count": 103,
   "metadata": {},
   "outputs": [
    {
     "output_type": "stream",
     "name": "stderr",
     "text": [
      "Setting `pad_token_id` to `eos_token_id`:50256 for open-end generation.\n",
      "<BOS>Hello\n"
     ]
    }
   ],
   "source": [
    "test_prefix = \"It was a beautiful morning, but then\"\n",
    "print(\"trained\")\n",
    "print(generate_text(test_prefix))"
   ]
  },
  {
   "cell_type": "code",
   "execution_count": null,
   "metadata": {},
   "outputs": [],
   "source": []
  }
 ]
}