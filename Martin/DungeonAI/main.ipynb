{
 "metadata": {
  "language_info": {
   "codemirror_mode": {
    "name": "ipython",
    "version": 3
   },
   "file_extension": ".py",
   "mimetype": "text/x-python",
   "name": "python",
   "nbconvert_exporter": "python",
   "pygments_lexer": "ipython3",
   "version": "3.8.6-candidate"
  },
  "orig_nbformat": 2,
  "kernelspec": {
   "name": "python386jvsc74a57bd0f3b6685f8229bfdb05f68a645283f38a241332dcd8b5fbfb6b6333365134a06a",
   "display_name": "Python 3.8.6 64-bit"
  },
  "metadata": {
   "interpreter": {
    "hash": "f3b6685f8229bfdb05f68a645283f38a241332dcd8b5fbfb6b6333365134a06a"
   }
  }
 },
 "nbformat": 4,
 "nbformat_minor": 2,
 "cells": [
  {
   "cell_type": "code",
   "execution_count": 5,
   "metadata": {},
   "outputs": [],
   "source": [
    "import torch as t\n",
    "import transformers as tfs\n",
    "import tkinter as tk"
   ]
  },
  {
   "cell_type": "code",
   "execution_count": 18,
   "metadata": {},
   "outputs": [
    {
     "output_type": "execute_result",
     "data": {
      "text/plain": [
       "Embedding(50260, 768)"
      ]
     },
     "metadata": {},
     "execution_count": 18
    }
   ],
   "source": [
    "tokenizer = tfs.GPT2TokenizerFast.from_pretrained(\"gpt2\")\n",
    "special_tokens_dict = {'bos_token': '<BOS>', 'eos_token': '<EOS>', 'pad_token': '<PAD>'}\n",
    "num_added_toks = tokenizer.add_special_tokens(special_tokens_dict)\n",
    "\n",
    "# ENDRE HER!!!!!\n",
    "trained_folder = \"results\\checkpoint-1100\"\n",
    "model = tfs.GPT2LMHeadModel.from_pretrained(trained_folder)\n",
    "model.resize_token_embeddings(len(tokenizer))"
   ]
  },
  {
   "cell_type": "code",
   "execution_count": 21,
   "metadata": {},
   "outputs": [],
   "source": [
    "text_generator = tfs.pipeline(\"text-generation\", tokenizer = tokenizer, model=model)\n",
    "def generate_text(prefix, tokens_pr_gen=20, generator=text_generator):\n",
    "    encoded_input = tokenizer(prefix, add_special_tokens=True, return_tensors=\"pt\")\n",
    "    length = len(encoded_input[\"input_ids\"][0])\n",
    "    return generator(prefix, max_length = length+tokens_pr_gen, num_return_sequences=1, repetition_penalty=1.2)[0][\"generated_text\"]"
   ]
  },
  {
   "cell_type": "code",
   "execution_count": 23,
   "metadata": {},
   "outputs": [
    {
     "output_type": "stream",
     "name": "stderr",
     "text": [
      "Setting `pad_token_id` to `eos_token_id`:50256 for open-end generation.\n",
      "You wake up and hear a voice:\n",
      "\n",
      " The Blacksmith! Come with us, if what you have heard is true. We are a journey\n",
      "Setting `pad_token_id` to `eos_token_id`:50256 for open-end generation.\n",
      "You wake up and hear a voice: The Blacksmith! Come with us, if what you have heard is true. We are a journey\n",
      "\n",
      "mer of renown who will gather the knowledge from this island when our men finish their restful hunting for\n"
     ]
    }
   ],
   "source": [
    "text = \"You wake up and hear a voice:\"\n",
    "window = tk.Tk()\n",
    "text_box = tk.Text()\n",
    "text_box.pack()\n",
    "text_box.insert(\"1.0\", text)\n",
    "\n",
    "def onclick():\n",
    "    text = text_box.get(\"0.0\", tk.END)\n",
    "    print(text)\n",
    "    text = text[:-1]\n",
    "    prev_length = len(text)\n",
    "    new_text = generate_text(text)\n",
    "    print(new_text[prev_length: ])\n",
    "    text_box.delete(\"0.0\", tk.END)\n",
    "    text_box.insert(\"0.0\", new_text)\n",
    "\n",
    "button = tk.Button(window, text=\"generate\", command=onclick)\n",
    "button.pack()\n",
    "onclick()\n",
    "window.mainloop()"
   ]
  },
  {
   "cell_type": "code",
   "execution_count": null,
   "metadata": {},
   "outputs": [],
   "source": []
  }
 ]
}