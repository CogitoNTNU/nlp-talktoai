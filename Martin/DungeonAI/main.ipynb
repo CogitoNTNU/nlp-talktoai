{
 "metadata": {
  "language_info": {
   "codemirror_mode": {
    "name": "ipython",
    "version": 3
   },
   "file_extension": ".py",
   "mimetype": "text/x-python",
   "name": "python",
   "nbconvert_exporter": "python",
   "pygments_lexer": "ipython3",
   "version": "3.8.6"
  },
  "orig_nbformat": 2,
  "kernelspec": {
   "name": "python386jvsc74a57bd0f3b6685f8229bfdb05f68a645283f38a241332dcd8b5fbfb6b6333365134a06a",
   "display_name": "Python 3.8.6rc1 64-bit"
  },
  "metadata": {
   "interpreter": {
    "hash": "f3b6685f8229bfdb05f68a645283f38a241332dcd8b5fbfb6b6333365134a06a"
   }
  }
 },
 "nbformat": 4,
 "nbformat_minor": 2,
 "cells": [
  {
   "cell_type": "code",
   "execution_count": 9,
   "metadata": {},
   "outputs": [],
   "source": [
    "import torch as t\n",
    "import transformers as tfs\n",
    "import tkinter as tk"
   ]
  },
  {
   "cell_type": "code",
   "execution_count": 10,
   "metadata": {},
   "outputs": [
    {
     "output_type": "execute_result",
     "data": {
      "text/plain": [
       "Embedding(50260, 768)"
      ]
     },
     "metadata": {},
     "execution_count": 10
    }
   ],
   "source": [
    "tokenizer = tfs.GPT2TokenizerFast.from_pretrained(\"gpt2\")\n",
    "special_tokens_dict = {'bos_token': '<BOS>', 'eos_token': '<EOS>', 'pad_token': '<PAD>'}\n",
    "num_added_toks = tokenizer.add_special_tokens(special_tokens_dict)\n",
    "\n",
    "# ENDRE HER!!!!!\n",
    "trained_folder = \"results\\checkpoint-1100\"\n",
    "model = tfs.GPT2LMHeadModel.from_pretrained(trained_folder)\n",
    "model.resize_token_embeddings(len(tokenizer))"
   ]
  },
  {
   "cell_type": "code",
   "execution_count": 27,
   "metadata": {},
   "outputs": [],
   "source": [
    "text_generator = tfs.pipeline(\"text-generation\", tokenizer = tokenizer, model=model)\n",
    "def generate_text(prefix, tokens_pr_gen=50, generator=text_generator):\n",
    "    encoded_input = tokenizer(prefix, add_special_tokens=True, return_tensors=\"pt\")\n",
    "    length = len(encoded_input[\"input_ids\"][0])\n",
    "    return generator(prefix, max_length = length+tokens_pr_gen, num_return_sequences=1, repetition_penalty=1.2, temperature=0.7, top_k=50)[0][\"generated_text\"]"
   ]
  },
  {
   "cell_type": "code",
   "execution_count": 43,
   "metadata": {
    "tags": []
   },
   "outputs": [
    {
     "output_type": "stream",
     "name": "stderr",
     "text": [
      "Setting `pad_token_id` to `eos_token_id`:50256 for open-end generation.\n",
      "You wake up and hear a voice: 'Bless yourself! Blessed you, blessed. And I beg of the gods to offer me an offering.' The priestess gestures towards your face while holding her staff in front with one hand behind it or both at once before continuing on as usual -\n",
      "117 31\n",
      "Bless yourself! Blessed you, blessed. And I beg of the gods to offer me an offering.\n",
      ">\n",
      "Setting `pad_token_id` to `eos_token_id`:50256 for open-end generation.\n",
      "You wake up and hear a voice: 'Bless yourself! Blessed you, blessed. And I beg of the gods to offer me an offering.\n",
      " whispers in your ear as she sits next to him on his bed so that he can take it with her (she remarks)  face is full filled by hope for something good coming soon…to bring joy through this darkness.\" The woman shouts\n",
      "317 116\n",
      " whispers in your ear as she sits next to him on his bed so that he can take it with her (she remarks)  face is full filled by hope for something good coming soon…to bring joy through this darkness.\"\n",
      ">\n",
      "Setting `pad_token_id` to `eos_token_id`:50256 for open-end generation.\n",
      "You wake up and hear a voice: 'Bless yourself! Blessed you, blessed. And I beg of the gods to offer me an offering.\n",
      " whispers in your ear as she sits next to him on his bed so that he can take it with her (she remarks)  face is full filled by hope for something good coming soon…to bring joy through this darkness.\"\n",
      "” The Emperor says slowly when all else stops behind them “and whereupon they are led away from their places? You could hardly imagine what would happen if such words were uttered at once again while still alive - even without any sense or restraint\n",
      "427 316\n",
      "” The Emperor says slowly when all else stops behind them “and whereupon they are led away from their places?\n",
      ">\n",
      "Setting `pad_token_id` to `eos_token_id`:50256 for open-end generation.\n",
      "Setting `pad_token_id` to `eos_token_id`:50256 for open-end generation.\n",
      "You wake up and hear a voice: 'Bless yourself! Blessed you, blessed. And I beg of the gods to offer me an offering.\n",
      " whispers in your ear as she sits next to him on his bed so that he can take it with her (she remarks)  face is full filled by hope for something good coming soon…to bring joy through this darkness.\"\n",
      "” The Emperor says slowly when all else stops behind them “and whereupon they are led away from their places?\n",
      "Sighing like death itself might be enough proof there could always come another day if things continued at such pace; but the words were too heavy indeed - until now anyway because Vera has been leading everything along quite well since then while we don't know\n",
      "427 426\n",
      "Setting `pad_token_id` to `eos_token_id`:50256 for open-end generation.\n",
      "You wake up and hear a voice: 'Bless yourself! Blessed you, blessed. And I beg of the gods to offer me an offering.\n",
      " whispers in your ear as she sits next to him on his bed so that he can take it with her (she remarks)  face is full filled by hope for something good coming soon…to bring joy through this darkness.\"\n",
      "” The Emperor says slowly when all else stops behind them “and whereupon they are led away from their places?\n",
      "A third person suddenly looks at You who has been standing beside Vera since Holgard was brought into existence; A shadow approaches directly over His eyes which is almost like someone looking straight ahead or trying not see what might befall us here either way - but\n",
      "427 426\n",
      "Setting `pad_token_id` to `eos_token_id`:50256 for open-end generation.\n",
      "You wake up and hear a voice: 'Bless yourself! Blessed you, blessed. And I beg of the gods to offer me an offering.\n",
      " whispers in your ear as she sits next to him on his bed so that he can take it with her (she remarks)  face is full filled by hope for something good coming soon…to bring joy through this darkness.\"\n",
      "” The Emperor says slowly when all else stops behind them “and whereupon they are led away from their places?\n",
      "The young man then turns around again just long enough before going out into sea until everyone stands at attention or backs down now more than ever during daybreak while keeping watch over each other even if there isn't much daylight left either way since Nocturnal League\n",
      "427 426\n",
      "Setting `pad_token_id` to `eos_token_id`:50256 for open-end generation.\n",
      "You wake up and hear a voice: 'Bless yourself! Blessed you, blessed. And I beg of the gods to offer me an offering.\n",
      " whispers in your ear as she sits next to him on his bed so that he can take it with her (she remarks)  face is full filled by hope for something good coming soon…to bring joy through this darkness.\"\n",
      "” The Emperor says slowly when all else stops behind them “and whereupon they are led away from their places?\n",
      "The King speaks again with another half-breed child who shakes hands well before nodding once more at Elana over there holding out one hand while smiling even less than usual - only now fully aware what has transpired since then despite herself being just slightly bigger\n",
      "427 426\n",
      "You wake up and hear a voice: 'Bless yourself! Blessed you, blessed. And I beg of the gods to offer me an offering.\n",
      " whispers in your ear as she sits next to him on his bed so that he can take it with her (she remarks)  face is full filled by hope for something good coming soon…to bring joy through this darkness.\"\n",
      "” The Emperor says slowly when all else stops behind them “and whereupon they are led away from their places?\n",
      "And then more words occur before everyone realizes what has happened - even if there was no actual evidence whatsoever at first glance...so much sorrowful wonderment goes around again now since nobody knows where exactly how or why such things ever took place either here today\n",
      "565 426\n",
      "And then more words occur before everyone realizes what has happened - even if there was no actual evidence whatsoever at first glance...\n",
      ">\n",
      "Setting `pad_token_id` to `eos_token_id`:50256 for open-end generation.\n",
      "You wake up and hear a voice: 'Bless yourself! Blessed you, blessed. And I beg of the gods to offer me an offering.\n",
      " whispers in your ear as she sits next to him on his bed so that he can take it with her (she remarks)  face is full filled by hope for something good coming soon…to bring joy through this darkness.\"\n",
      "” The Emperor says slowly when all else stops behind them “and whereupon they are led away from their places?\n",
      "And then more words occur before everyone realizes what has happened - even if there was no actual evidence whatsoever at first glance...\n",
      "(Sighing slightly) What the hell?! Didn't Fel just take such great pain today anyway because we need some consolation now or did everything already go backwards here instead!? If anything perhaps most importantly about us actually getting back together again after these\n",
      "741 564\n",
      "(Sighing slightly) What the hell?! Didn't Fel just take such great pain today anyway because we need some consolation now or did everything already go backwards here instead!?\n",
      ">\n"
     ]
    }
   ],
   "source": [
    "start_text = \"You wake up and hear a voice: '\" \n",
    "window = tk.Tk()\n",
    "window.title(\"DungeonAI - absolutely not a copy of AIDungeon\")\n",
    "text_box = tk.Text()\n",
    "text_box.pack()\n",
    "text_box.insert(\"1.0\", start_text)\n",
    "\n",
    "\n",
    "def clean_output_text(text):\n",
    "    ends = [\".\", \"!\", \"?\", \"\\\"\"]\n",
    "    last_instances = {}\n",
    "    for d in ends:\n",
    "        last_instances[d]=text.rfind(d)\n",
    "    last = max(last_instances, key = lambda key:last_instances[key])\n",
    "    print(text)\n",
    "    text = [t +last for t in text.split(last)]\n",
    "    text = text[:-1]\n",
    "    text = \"\".join(text)+\"\\n>\"\n",
    "    return text\n",
    "\n",
    "def clean_input_text(text):\n",
    "    if text[-1]==\">\":\n",
    "        text = text.replace(\">\", \"\")\n",
    "    text = text.replace(\">\", \"You \")\n",
    "    return text\n",
    "\n",
    "def onclick():\n",
    "    text = text_box.get(\"0.0\", tk.END)\n",
    "    text = text[:-1]\n",
    "    text = clean_input_text(text)\n",
    "    prev_length = len(text)\n",
    "    new_length = prev_length+1\n",
    "    while prev_length+1==new_length:\n",
    "        new_text = generate_text(text)\n",
    "        new_text = clean_output_text(new_text)\n",
    "        new_length=len(new_text)\n",
    "        print(new_length, prev_length)\n",
    "    print(new_text[prev_length: ])\n",
    "    text_box.delete(\"0.0\", tk.END)\n",
    "    text_box.insert(\"0.0\", new_text)\n",
    "\n",
    "def restart():\n",
    "    text_box.delete(\"0.0\", tk.END)\n",
    "    text_box.insert(\"0.0\", start_text)\n",
    "    onclick()\n",
    "\n",
    "button = tk.Button(window, text=\"generate\", command=onclick)\n",
    "restart_button = tk.Button(window, text=\"restart\", command=restart)\n",
    "button.pack()\n",
    "restart_button.pack()\n",
    "onclick()\n",
    "window.mainloop()"
   ]
  },
  {
   "cell_type": "code",
   "execution_count": null,
   "metadata": {},
   "outputs": [],
   "source": []
  }
 ]
}